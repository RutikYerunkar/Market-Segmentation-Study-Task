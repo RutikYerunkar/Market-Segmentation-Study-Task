{
 "cells": [
  {
   "cell_type": "code",
   "execution_count": 51,
   "metadata": {},
   "outputs": [],
   "source": [
    "#Required Modules\n",
    "import pandas as pd\n",
    "import numpy as np\n",
    "from sklearn.decomposition import PCA"
   ]
  },
  {
   "cell_type": "code",
   "execution_count": 2,
   "metadata": {},
   "outputs": [
    {
     "name": "stdout",
     "output_type": "stream",
     "text": [
      "     yummy convenient spicy fattening greasy fast cheap tasty expensive  \\\n",
      "0       No        Yes    No       Yes     No  Yes   Yes    No       Yes   \n",
      "1      Yes        Yes    No       Yes    Yes  Yes   Yes   Yes       Yes   \n",
      "2       No        Yes   Yes       Yes    Yes  Yes    No   Yes       Yes   \n",
      "3      Yes        Yes    No       Yes    Yes  Yes   Yes   Yes        No   \n",
      "4       No        Yes    No       Yes    Yes  Yes   Yes    No        No   \n",
      "...    ...        ...   ...       ...    ...  ...   ...   ...       ...   \n",
      "1448    No        Yes    No       Yes    Yes   No    No    No       Yes   \n",
      "1449   Yes        Yes    No       Yes     No   No   Yes   Yes        No   \n",
      "1450   Yes        Yes    No       Yes     No  Yes    No   Yes       Yes   \n",
      "1451   Yes        Yes    No        No     No  Yes   Yes   Yes        No   \n",
      "1452    No        Yes    No       Yes    Yes   No    No    No       Yes   \n",
      "\n",
      "     healthy disgusting          Like  Age      VisitFrequency  Gender  \n",
      "0         No         No            -3   61  Every three months  Female  \n",
      "1         No         No            +2   51  Every three months  Female  \n",
      "2        Yes         No            +1   62  Every three months  Female  \n",
      "3         No        Yes            +4   69         Once a week  Female  \n",
      "4        Yes         No            +2   49        Once a month    Male  \n",
      "...      ...        ...           ...  ...                 ...     ...  \n",
      "1448      No        Yes  I hate it!-5   47         Once a year    Male  \n",
      "1449     Yes         No            +2   36         Once a week  Female  \n",
      "1450      No         No            +3   52        Once a month  Female  \n",
      "1451     Yes         No            +4   41  Every three months    Male  \n",
      "1452      No        Yes            -3   30  Every three months    Male  \n",
      "\n",
      "[1453 rows x 15 columns]\n"
     ]
    }
   ],
   "source": [
    "#DSaving the csv file\n",
    "mcdonalds = pd.read_csv(\"https://homepage.boku.ac.at/leisch/MSA/datasets/mcdonalds.csv\")\n",
    "print(mcdonalds)"
   ]
  },
  {
   "cell_type": "code",
   "execution_count": 3,
   "metadata": {},
   "outputs": [],
   "source": [
    "#Copying the data into new variable\n",
    "fast_food = mcdonalds.copy()"
   ]
  },
  {
   "cell_type": "code",
   "execution_count": 5,
   "metadata": {},
   "outputs": [
    {
     "name": "stdout",
     "output_type": "stream",
     "text": [
      "Index(['yummy', 'convenient', 'spicy', 'fattening', 'greasy', 'fast', 'cheap',\n",
      "       'tasty', 'expensive', 'healthy', 'disgusting', 'Like', 'Age',\n",
      "       'VisitFrequency', 'Gender'],\n",
      "      dtype='object')\n"
     ]
    }
   ],
   "source": [
    "#Printing variable names\n",
    "print(fast_food.columns)"
   ]
  },
  {
   "cell_type": "code",
   "execution_count": 6,
   "metadata": {},
   "outputs": [
    {
     "name": "stdout",
     "output_type": "stream",
     "text": [
      "(1453, 15)\n"
     ]
    }
   ],
   "source": [
    "#Printing sample size\n",
    "print(fast_food.shape)"
   ]
  },
  {
   "cell_type": "code",
   "execution_count": 7,
   "metadata": {},
   "outputs": [
    {
     "data": {
      "text/html": [
       "<div>\n",
       "<style scoped>\n",
       "    .dataframe tbody tr th:only-of-type {\n",
       "        vertical-align: middle;\n",
       "    }\n",
       "\n",
       "    .dataframe tbody tr th {\n",
       "        vertical-align: top;\n",
       "    }\n",
       "\n",
       "    .dataframe thead th {\n",
       "        text-align: right;\n",
       "    }\n",
       "</style>\n",
       "<table border=\"1\" class=\"dataframe\">\n",
       "  <thead>\n",
       "    <tr style=\"text-align: right;\">\n",
       "      <th></th>\n",
       "      <th>yummy</th>\n",
       "      <th>convenient</th>\n",
       "      <th>spicy</th>\n",
       "      <th>fattening</th>\n",
       "      <th>greasy</th>\n",
       "      <th>fast</th>\n",
       "      <th>cheap</th>\n",
       "      <th>tasty</th>\n",
       "      <th>expensive</th>\n",
       "      <th>healthy</th>\n",
       "      <th>disgusting</th>\n",
       "      <th>Like</th>\n",
       "      <th>Age</th>\n",
       "      <th>VisitFrequency</th>\n",
       "      <th>Gender</th>\n",
       "    </tr>\n",
       "  </thead>\n",
       "  <tbody>\n",
       "    <tr>\n",
       "      <th>0</th>\n",
       "      <td>No</td>\n",
       "      <td>Yes</td>\n",
       "      <td>No</td>\n",
       "      <td>Yes</td>\n",
       "      <td>No</td>\n",
       "      <td>Yes</td>\n",
       "      <td>Yes</td>\n",
       "      <td>No</td>\n",
       "      <td>Yes</td>\n",
       "      <td>No</td>\n",
       "      <td>No</td>\n",
       "      <td>-3</td>\n",
       "      <td>61</td>\n",
       "      <td>Every three months</td>\n",
       "      <td>Female</td>\n",
       "    </tr>\n",
       "    <tr>\n",
       "      <th>1</th>\n",
       "      <td>Yes</td>\n",
       "      <td>Yes</td>\n",
       "      <td>No</td>\n",
       "      <td>Yes</td>\n",
       "      <td>Yes</td>\n",
       "      <td>Yes</td>\n",
       "      <td>Yes</td>\n",
       "      <td>Yes</td>\n",
       "      <td>Yes</td>\n",
       "      <td>No</td>\n",
       "      <td>No</td>\n",
       "      <td>+2</td>\n",
       "      <td>51</td>\n",
       "      <td>Every three months</td>\n",
       "      <td>Female</td>\n",
       "    </tr>\n",
       "    <tr>\n",
       "      <th>2</th>\n",
       "      <td>No</td>\n",
       "      <td>Yes</td>\n",
       "      <td>Yes</td>\n",
       "      <td>Yes</td>\n",
       "      <td>Yes</td>\n",
       "      <td>Yes</td>\n",
       "      <td>No</td>\n",
       "      <td>Yes</td>\n",
       "      <td>Yes</td>\n",
       "      <td>Yes</td>\n",
       "      <td>No</td>\n",
       "      <td>+1</td>\n",
       "      <td>62</td>\n",
       "      <td>Every three months</td>\n",
       "      <td>Female</td>\n",
       "    </tr>\n",
       "  </tbody>\n",
       "</table>\n",
       "</div>"
      ],
      "text/plain": [
       "  yummy convenient spicy fattening greasy fast cheap tasty expensive healthy  \\\n",
       "0    No        Yes    No       Yes     No  Yes   Yes    No       Yes      No   \n",
       "1   Yes        Yes    No       Yes    Yes  Yes   Yes   Yes       Yes      No   \n",
       "2    No        Yes   Yes       Yes    Yes  Yes    No   Yes       Yes     Yes   \n",
       "\n",
       "  disgusting Like  Age      VisitFrequency  Gender  \n",
       "0         No   -3   61  Every three months  Female  \n",
       "1         No   +2   51  Every three months  Female  \n",
       "2         No   +1   62  Every three months  Female  "
      ]
     },
     "execution_count": 7,
     "metadata": {},
     "output_type": "execute_result"
    }
   ],
   "source": [
    "#Printing first three rows of the data\n",
    "fast_food.head(3)"
   ]
  },
  {
   "cell_type": "markdown",
   "metadata": {},
   "source": [
    "### Pre-Processing: Converting first 11 segmentation variables from verbal to numeric"
   ]
  },
  {
   "cell_type": "code",
   "execution_count": 11,
   "metadata": {},
   "outputs": [
    {
     "name": "stdout",
     "output_type": "stream",
     "text": [
      "     yummy convenient spicy fattening greasy fast cheap tasty expensive  \\\n",
      "0       No        Yes    No       Yes     No  Yes   Yes    No       Yes   \n",
      "1      Yes        Yes    No       Yes    Yes  Yes   Yes   Yes       Yes   \n",
      "2       No        Yes   Yes       Yes    Yes  Yes    No   Yes       Yes   \n",
      "3      Yes        Yes    No       Yes    Yes  Yes   Yes   Yes        No   \n",
      "4       No        Yes    No       Yes    Yes  Yes   Yes    No        No   \n",
      "...    ...        ...   ...       ...    ...  ...   ...   ...       ...   \n",
      "1448    No        Yes    No       Yes    Yes   No    No    No       Yes   \n",
      "1449   Yes        Yes    No       Yes     No   No   Yes   Yes        No   \n",
      "1450   Yes        Yes    No       Yes     No  Yes    No   Yes       Yes   \n",
      "1451   Yes        Yes    No        No     No  Yes   Yes   Yes        No   \n",
      "1452    No        Yes    No       Yes    Yes   No    No    No       Yes   \n",
      "\n",
      "     healthy disgusting  \n",
      "0         No         No  \n",
      "1         No         No  \n",
      "2        Yes         No  \n",
      "3         No        Yes  \n",
      "4        Yes         No  \n",
      "...      ...        ...  \n",
      "1448      No        Yes  \n",
      "1449     Yes         No  \n",
      "1450      No         No  \n",
      "1451     Yes         No  \n",
      "1452      No        Yes  \n",
      "\n",
      "[1453 rows x 11 columns]\n"
     ]
    }
   ],
   "source": [
    "#Extracting first 11 columns \n",
    "temp = fast_food.iloc[:,0:11]\n",
    "print(temp)"
   ]
  },
  {
   "cell_type": "code",
   "execution_count": 15,
   "metadata": {},
   "outputs": [],
   "source": [
    "temp['yummy'].replace(['No', 'Yes'], [0, 1], inplace=True)\n",
    "temp['convenient'].replace(['No', 'Yes'], [0, 1], inplace=True)\n",
    "temp['spicy'].replace(['No', 'Yes'], [0, 1], inplace=True)\n",
    "temp['fattening'].replace(['No', 'Yes'], [0, 1], inplace=True)\n",
    "temp['greasy'].replace(['No', 'Yes'], [0, 1], inplace=True)\n",
    "temp['fast'].replace(['No', 'Yes'], [0, 1], inplace=True)\n",
    "temp['cheap'].replace(['No', 'Yes'], [0, 1], inplace=True)\n",
    "temp['tasty'].replace(['No', 'Yes'], [0, 1], inplace=True)\n",
    "temp['expensive'].replace(['No', 'Yes'], [0, 1], inplace=True)\n",
    "temp['healthy'].replace(['No', 'Yes'], [0, 1], inplace=True)\n",
    "temp['disgusting'].replace(['No', 'Yes'], [0, 1], inplace=True)"
   ]
  },
  {
   "cell_type": "code",
   "execution_count": 16,
   "metadata": {},
   "outputs": [
    {
     "name": "stdout",
     "output_type": "stream",
     "text": [
      "      yummy  convenient  spicy  fattening  greasy  fast  cheap  tasty  \\\n",
      "0         0           1      0          1       0     1      1      0   \n",
      "1         1           1      0          1       1     1      1      1   \n",
      "2         0           1      1          1       1     1      0      1   \n",
      "3         1           1      0          1       1     1      1      1   \n",
      "4         0           1      0          1       1     1      1      0   \n",
      "...     ...         ...    ...        ...     ...   ...    ...    ...   \n",
      "1448      0           1      0          1       1     0      0      0   \n",
      "1449      1           1      0          1       0     0      1      1   \n",
      "1450      1           1      0          1       0     1      0      1   \n",
      "1451      1           1      0          0       0     1      1      1   \n",
      "1452      0           1      0          1       1     0      0      0   \n",
      "\n",
      "      expensive  healthy  disgusting  \n",
      "0             1        0           0  \n",
      "1             1        0           0  \n",
      "2             1        1           0  \n",
      "3             0        0           1  \n",
      "4             0        1           0  \n",
      "...         ...      ...         ...  \n",
      "1448          1        0           1  \n",
      "1449          0        1           0  \n",
      "1450          1        0           0  \n",
      "1451          0        1           0  \n",
      "1452          1        0           1  \n",
      "\n",
      "[1453 rows x 11 columns]\n"
     ]
    }
   ],
   "source": [
    "print(temp)"
   ]
  },
  {
   "cell_type": "code",
   "execution_count": 20,
   "metadata": {},
   "outputs": [
    {
     "name": "stdout",
     "output_type": "stream",
     "text": [
      "yummy         0.55\n",
      "convenient    0.91\n",
      "spicy         0.09\n",
      "fattening     0.87\n",
      "greasy        0.53\n",
      "fast          0.90\n",
      "cheap         0.60\n",
      "tasty         0.64\n",
      "expensive     0.36\n",
      "healthy       0.20\n",
      "disgusting    0.24\n",
      "dtype: float64\n"
     ]
    }
   ],
   "source": [
    "print(temp.mean().round(2))"
   ]
  },
  {
   "cell_type": "markdown",
   "metadata": {},
   "source": [
    "### Principal Component Analysis"
   ]
  },
  {
   "cell_type": "code",
   "execution_count": 27,
   "metadata": {},
   "outputs": [],
   "source": [
    "pca = PCA(n_components=11)\n",
    "principalComponents = pca.fit_transform(temp)"
   ]
  },
  {
   "cell_type": "code",
   "execution_count": 30,
   "metadata": {},
   "outputs": [],
   "source": [
    "principalComponents_dataframe = pd.DataFrame(data = principalComponents,\n",
    "                                             columns = ['PC1', 'PC2','PC3','PC4','PC5','PC6','PC7','PC8','PC9','PC10','PC11'])"
   ]
  },
  {
   "cell_type": "code",
   "execution_count": 31,
   "metadata": {},
   "outputs": [
    {
     "name": "stdout",
     "output_type": "stream",
     "text": [
      "           PC1       PC2       PC3       PC4       PC5       PC6       PC7  \\\n",
      "0     0.425367 -0.219079  0.663255 -0.401300  0.201705 -0.389767 -0.211982   \n",
      "1    -0.218638  0.388190 -0.730827 -0.094724  0.044669 -0.086596 -0.095877   \n",
      "2     0.375415  0.730435 -0.122040  0.692262  0.839643 -0.687406  0.583112   \n",
      "3    -0.172926 -0.352752 -0.843795  0.206998 -0.681415 -0.036133 -0.054284   \n",
      "4     0.187057 -0.807610  0.028537  0.548332  0.854074 -0.097305 -0.457043   \n",
      "...        ...       ...       ...       ...       ...       ...       ...   \n",
      "1448  1.550242  0.275031 -0.013737  0.200604 -0.145063  0.306575 -0.075308   \n",
      "1449 -0.957339  0.014308  0.303843  0.444350 -0.133690  0.381804 -0.326432   \n",
      "1450 -0.185894  1.062662  0.220857 -0.467643 -0.187757 -0.192703 -0.091597   \n",
      "1451 -1.182064 -0.038570  0.561561  0.701126  0.047645  0.193687 -0.027335   \n",
      "1452  1.550242  0.275031 -0.013737  0.200604 -0.145063  0.306575 -0.075308   \n",
      "\n",
      "           PC8       PC9      PC10      PC11  \n",
      "0     0.163235  0.181007  0.515706 -0.567074  \n",
      "1    -0.034756  0.111476  0.493313 -0.500440  \n",
      "2     0.364379 -0.322288  0.061759  0.242741  \n",
      "3    -0.231477 -0.028003 -0.250678 -0.051034  \n",
      "4     0.171758 -0.074409  0.031897  0.082245  \n",
      "...        ...       ...       ...       ...  \n",
      "1448  0.345552 -0.136589 -0.432798 -0.456076  \n",
      "1449  0.878047 -0.304441 -0.247443 -0.193671  \n",
      "1450 -0.036576  0.038255  0.056518 -0.012800  \n",
      "1451 -0.339374  0.022267 -0.002573 -0.105316  \n",
      "1452  0.345552 -0.136589 -0.432798 -0.456076  \n",
      "\n",
      "[1453 rows x 11 columns]\n"
     ]
    }
   ],
   "source": [
    "print(principalComponents_dataframe)"
   ]
  },
  {
   "cell_type": "code",
   "execution_count": 44,
   "metadata": {},
   "outputs": [],
   "source": [
    "summary = principalComponents_dataframe.describe()"
   ]
  },
  {
   "cell_type": "code",
   "execution_count": 45,
   "metadata": {},
   "outputs": [
    {
     "data": {
      "text/html": [
       "<div>\n",
       "<style scoped>\n",
       "    .dataframe tbody tr th:only-of-type {\n",
       "        vertical-align: middle;\n",
       "    }\n",
       "\n",
       "    .dataframe tbody tr th {\n",
       "        vertical-align: top;\n",
       "    }\n",
       "\n",
       "    .dataframe thead th {\n",
       "        text-align: right;\n",
       "    }\n",
       "</style>\n",
       "<table border=\"1\" class=\"dataframe\">\n",
       "  <thead>\n",
       "    <tr style=\"text-align: right;\">\n",
       "      <th></th>\n",
       "      <th>PC1</th>\n",
       "      <th>PC2</th>\n",
       "      <th>PC3</th>\n",
       "      <th>PC4</th>\n",
       "      <th>PC5</th>\n",
       "      <th>PC6</th>\n",
       "      <th>PC7</th>\n",
       "      <th>PC8</th>\n",
       "      <th>PC9</th>\n",
       "      <th>PC10</th>\n",
       "      <th>PC11</th>\n",
       "    </tr>\n",
       "  </thead>\n",
       "  <tbody>\n",
       "    <tr>\n",
       "      <th>count</th>\n",
       "      <td>1.453000e+03</td>\n",
       "      <td>1.453000e+03</td>\n",
       "      <td>1.453000e+03</td>\n",
       "      <td>1.453000e+03</td>\n",
       "      <td>1.453000e+03</td>\n",
       "      <td>1.453000e+03</td>\n",
       "      <td>1.453000e+03</td>\n",
       "      <td>1.453000e+03</td>\n",
       "      <td>1.453000e+03</td>\n",
       "      <td>1.453000e+03</td>\n",
       "      <td>1.453000e+03</td>\n",
       "    </tr>\n",
       "    <tr>\n",
       "      <th>mean</th>\n",
       "      <td>-5.134686e-17</td>\n",
       "      <td>-4.890177e-17</td>\n",
       "      <td>2.750725e-17</td>\n",
       "      <td>2.383961e-17</td>\n",
       "      <td>1.100290e-17</td>\n",
       "      <td>-3.331433e-17</td>\n",
       "      <td>2.964670e-17</td>\n",
       "      <td>-1.222544e-18</td>\n",
       "      <td>-6.418357e-18</td>\n",
       "      <td>4.829050e-17</td>\n",
       "      <td>6.571176e-18</td>\n",
       "    </tr>\n",
       "    <tr>\n",
       "      <th>std</th>\n",
       "      <td>7.570495e-01</td>\n",
       "      <td>6.074556e-01</td>\n",
       "      <td>5.046195e-01</td>\n",
       "      <td>3.987986e-01</td>\n",
       "      <td>3.374050e-01</td>\n",
       "      <td>3.102746e-01</td>\n",
       "      <td>2.896973e-01</td>\n",
       "      <td>2.751220e-01</td>\n",
       "      <td>2.652511e-01</td>\n",
       "      <td>2.488418e-01</td>\n",
       "      <td>2.369028e-01</td>\n",
       "    </tr>\n",
       "    <tr>\n",
       "      <th>min</th>\n",
       "      <td>-1.188421e+00</td>\n",
       "      <td>-1.040274e+00</td>\n",
       "      <td>-8.808133e-01</td>\n",
       "      <td>-5.906209e-01</td>\n",
       "      <td>-1.045938e+00</td>\n",
       "      <td>-8.524911e-01</td>\n",
       "      <td>-8.059463e-01</td>\n",
       "      <td>-9.316201e-01</td>\n",
       "      <td>-9.557606e-01</td>\n",
       "      <td>-8.871971e-01</td>\n",
       "      <td>-8.851439e-01</td>\n",
       "    </tr>\n",
       "    <tr>\n",
       "      <th>25%</th>\n",
       "      <td>-5.476794e-01</td>\n",
       "      <td>-3.568482e-01</td>\n",
       "      <td>-4.507793e-01</td>\n",
       "      <td>-2.814986e-01</td>\n",
       "      <td>-2.433247e-01</td>\n",
       "      <td>-1.927027e-01</td>\n",
       "      <td>-1.342190e-01</td>\n",
       "      <td>-1.717258e-01</td>\n",
       "      <td>-1.181233e-01</td>\n",
       "      <td>-1.465751e-01</td>\n",
       "      <td>-1.053163e-01</td>\n",
       "    </tr>\n",
       "    <tr>\n",
       "      <th>50%</th>\n",
       "      <td>-7.074592e-02</td>\n",
       "      <td>-1.151632e-01</td>\n",
       "      <td>2.687734e-02</td>\n",
       "      <td>-1.163200e-01</td>\n",
       "      <td>3.348785e-02</td>\n",
       "      <td>-3.460184e-02</td>\n",
       "      <td>-6.366220e-02</td>\n",
       "      <td>-3.475619e-02</td>\n",
       "      <td>3.868061e-02</td>\n",
       "      <td>3.020635e-02</td>\n",
       "      <td>-1.201409e-02</td>\n",
       "    </tr>\n",
       "    <tr>\n",
       "      <th>75%</th>\n",
       "      <td>4.933012e-01</td>\n",
       "      <td>3.915540e-01</td>\n",
       "      <td>3.515939e-01</td>\n",
       "      <td>2.702298e-01</td>\n",
       "      <td>2.048293e-01</td>\n",
       "      <td>1.747453e-01</td>\n",
       "      <td>2.318357e-02</td>\n",
       "      <td>1.295966e-01</td>\n",
       "      <td>7.987794e-02</td>\n",
       "      <td>7.001416e-02</td>\n",
       "      <td>8.554080e-02</td>\n",
       "    </tr>\n",
       "    <tr>\n",
       "      <th>max</th>\n",
       "      <td>1.705573e+00</td>\n",
       "      <td>1.279130e+00</td>\n",
       "      <td>1.326976e+00</td>\n",
       "      <td>1.355278e+00</td>\n",
       "      <td>1.053327e+00</td>\n",
       "      <td>1.323793e+00</td>\n",
       "      <td>1.350886e+00</td>\n",
       "      <td>1.121388e+00</td>\n",
       "      <td>1.086693e+00</td>\n",
       "      <td>1.181524e+00</td>\n",
       "      <td>9.255829e-01</td>\n",
       "    </tr>\n",
       "  </tbody>\n",
       "</table>\n",
       "</div>"
      ],
      "text/plain": [
       "                PC1           PC2           PC3           PC4           PC5  \\\n",
       "count  1.453000e+03  1.453000e+03  1.453000e+03  1.453000e+03  1.453000e+03   \n",
       "mean  -5.134686e-17 -4.890177e-17  2.750725e-17  2.383961e-17  1.100290e-17   \n",
       "std    7.570495e-01  6.074556e-01  5.046195e-01  3.987986e-01  3.374050e-01   \n",
       "min   -1.188421e+00 -1.040274e+00 -8.808133e-01 -5.906209e-01 -1.045938e+00   \n",
       "25%   -5.476794e-01 -3.568482e-01 -4.507793e-01 -2.814986e-01 -2.433247e-01   \n",
       "50%   -7.074592e-02 -1.151632e-01  2.687734e-02 -1.163200e-01  3.348785e-02   \n",
       "75%    4.933012e-01  3.915540e-01  3.515939e-01  2.702298e-01  2.048293e-01   \n",
       "max    1.705573e+00  1.279130e+00  1.326976e+00  1.355278e+00  1.053327e+00   \n",
       "\n",
       "                PC6           PC7           PC8           PC9          PC10  \\\n",
       "count  1.453000e+03  1.453000e+03  1.453000e+03  1.453000e+03  1.453000e+03   \n",
       "mean  -3.331433e-17  2.964670e-17 -1.222544e-18 -6.418357e-18  4.829050e-17   \n",
       "std    3.102746e-01  2.896973e-01  2.751220e-01  2.652511e-01  2.488418e-01   \n",
       "min   -8.524911e-01 -8.059463e-01 -9.316201e-01 -9.557606e-01 -8.871971e-01   \n",
       "25%   -1.927027e-01 -1.342190e-01 -1.717258e-01 -1.181233e-01 -1.465751e-01   \n",
       "50%   -3.460184e-02 -6.366220e-02 -3.475619e-02  3.868061e-02  3.020635e-02   \n",
       "75%    1.747453e-01  2.318357e-02  1.295966e-01  7.987794e-02  7.001416e-02   \n",
       "max    1.323793e+00  1.350886e+00  1.121388e+00  1.086693e+00  1.181524e+00   \n",
       "\n",
       "               PC11  \n",
       "count  1.453000e+03  \n",
       "mean   6.571176e-18  \n",
       "std    2.369028e-01  \n",
       "min   -8.851439e-01  \n",
       "25%   -1.053163e-01  \n",
       "50%   -1.201409e-02  \n",
       "75%    8.554080e-02  \n",
       "max    9.255829e-01  "
      ]
     },
     "execution_count": 45,
     "metadata": {},
     "output_type": "execute_result"
    }
   ],
   "source": [
    "summary"
   ]
  },
  {
   "cell_type": "code",
   "execution_count": 48,
   "metadata": {},
   "outputs": [
    {
     "data": {
      "text/plain": [
       "PC1     0.8\n",
       "PC2     0.6\n",
       "PC3     0.5\n",
       "PC4     0.4\n",
       "PC5     0.3\n",
       "PC6     0.3\n",
       "PC7     0.3\n",
       "PC8     0.3\n",
       "PC9     0.3\n",
       "PC10    0.2\n",
       "PC11    0.2\n",
       "Name: std, dtype: float64"
      ]
     },
     "execution_count": 48,
     "metadata": {},
     "output_type": "execute_result"
    }
   ],
   "source": [
    "#Standard Deviation of 11 Principal Componenets\n",
    "summary.iloc[2].round(1)"
   ]
  },
  {
   "cell_type": "code",
   "execution_count": 49,
   "metadata": {},
   "outputs": [
    {
     "name": "stdout",
     "output_type": "stream",
     "text": [
      "      PC1  PC2  PC3  PC4  PC5  PC6  PC7  PC8  PC9  PC10  PC11\n",
      "0     0.4 -0.2  0.7 -0.4  0.2 -0.4 -0.2  0.2  0.2   0.5  -0.6\n",
      "1    -0.2  0.4 -0.7 -0.1  0.0 -0.1 -0.1 -0.0  0.1   0.5  -0.5\n",
      "2     0.4  0.7 -0.1  0.7  0.8 -0.7  0.6  0.4 -0.3   0.1   0.2\n",
      "3    -0.2 -0.4 -0.8  0.2 -0.7 -0.0 -0.1 -0.2 -0.0  -0.3  -0.1\n",
      "4     0.2 -0.8  0.0  0.5  0.9 -0.1 -0.5  0.2 -0.1   0.0   0.1\n",
      "...   ...  ...  ...  ...  ...  ...  ...  ...  ...   ...   ...\n",
      "1448  1.6  0.3 -0.0  0.2 -0.1  0.3 -0.1  0.3 -0.1  -0.4  -0.5\n",
      "1449 -1.0  0.0  0.3  0.4 -0.1  0.4 -0.3  0.9 -0.3  -0.2  -0.2\n",
      "1450 -0.2  1.1  0.2 -0.5 -0.2 -0.2 -0.1 -0.0  0.0   0.1  -0.0\n",
      "1451 -1.2 -0.0  0.6  0.7  0.0  0.2 -0.0 -0.3  0.0  -0.0  -0.1\n",
      "1452  1.6  0.3 -0.0  0.2 -0.1  0.3 -0.1  0.3 -0.1  -0.4  -0.5\n",
      "\n",
      "[1453 rows x 11 columns]\n"
     ]
    }
   ],
   "source": [
    "print(principalComponents_dataframe.round(1))"
   ]
  }
 ],
 "metadata": {
  "kernelspec": {
   "display_name": "Python 3",
   "language": "python",
   "name": "python3"
  },
  "language_info": {
   "codemirror_mode": {
    "name": "ipython",
    "version": 3
   },
   "file_extension": ".py",
   "mimetype": "text/x-python",
   "name": "python",
   "nbconvert_exporter": "python",
   "pygments_lexer": "ipython3",
   "version": "3.9.1"
  }
 },
 "nbformat": 4,
 "nbformat_minor": 4
}
